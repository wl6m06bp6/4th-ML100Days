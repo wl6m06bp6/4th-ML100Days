{
 "cells": [
  {
   "cell_type": "markdown",
   "metadata": {},
   "source": [
    "Day_003_HW"
   ]
  },
  {
   "cell_type": "markdown",
   "metadata": {},
   "source": [
    "1.Google AI blog中Open Images 於2020/2/26更新第六版V6，其中新增了一項新功能，將視覺和語言與本地化敘述聯繫起來，對於對象檢測、實例分割和視覺關係檢測方面有最新進展。https://ai.googleblog.com/2020/02/open-images-v6-now-featuring-localized.html"
   ]
  },
  {
   "cell_type": "markdown",
   "metadata": {},
   "source": [
    "2.主要技術為 CNN 卷積神經網路影像分類，V6在影像分類的基礎上，添加了本地化敘事，這是一種全新的多模式註釋形式，包括在所描述對像上的同步語音，文字敘述和鼠標軌跡。\n",
    "本地化敘事方法的核心，是通過對圖像語音註釋，在敘述圖像同時移動鼠標，所描述的區域將鼠標懸停在註釋中，直接將描述與其所引用圖像的區域聯繫起來，確保三種方式（語音，文字敘述和鼠標跟踪）正確且同步。\n",
    "自計算機影像識別誕生以來，行為辨識一直是影像識別的核心，對於許多應用程序來說，理解圖像人類行為至關重要。Open Images V6採用這種新穎的方法將視覺和語言與本地化敘述聯繫起來，希望能夠進一步分析圖像真實場景的理解。"
   ]
  },
  {
   "cell_type": "markdown",
   "metadata": {},
   "source": [
    "3.資料來源為線上開源資料。"
   ]
  }
 ],
 "metadata": {
  "kernelspec": {
   "display_name": "Python 3",
   "language": "python",
   "name": "python3"
  },
  "language_info": {
   "codemirror_mode": {
    "name": "ipython",
    "version": 3
   },
   "file_extension": ".py",
   "mimetype": "text/x-python",
   "name": "python",
   "nbconvert_exporter": "python",
   "pygments_lexer": "ipython3",
   "version": "3.7.4"
  }
 },
 "nbformat": 4,
 "nbformat_minor": 2
}
