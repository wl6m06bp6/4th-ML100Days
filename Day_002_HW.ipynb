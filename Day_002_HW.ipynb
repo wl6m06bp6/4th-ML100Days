{
 "cells": [
  {
   "cell_type": "markdown",
   "metadata": {},
   "source": [
    "Day_002_HW"
   ]
  },
  {
   "cell_type": "markdown",
   "metadata": {},
   "source": [
    "在讀研究所期間論文方向為土木結構專業，因為研究需要，接觸了損害判別以及訊號分析，針對傳統土木的數據演算法研究相對缺稀．在分析結構體損傷非破壞檢測上，可裝設檢測儀器在結構體，經過地震或人工施加位移等震動，得到時間與加速度值，從大數據分析監督式學習的角度也許可以增加未來研究的方向，進而改善地震災害評估，做到預判結構體破壞從而進行結構補強或災害示警．"
   ]
  }
 ],
 "metadata": {
  "kernelspec": {
   "display_name": "Python 3",
   "language": "python",
   "name": "python3"
  },
  "language_info": {
   "codemirror_mode": {
    "name": "ipython",
    "version": 3
   },
   "file_extension": ".py",
   "mimetype": "text/x-python",
   "name": "python",
   "nbconvert_exporter": "python",
   "pygments_lexer": "ipython3",
   "version": "3.7.4"
  }
 },
 "nbformat": 4,
 "nbformat_minor": 2
}
